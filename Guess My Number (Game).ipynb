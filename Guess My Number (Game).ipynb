{
 "cells": [
  {
   "cell_type": "code",
   "execution_count": 4,
   "id": "5133279f",
   "metadata": {},
   "outputs": [
    {
     "name": "stdout",
     "output_type": "stream",
     "text": [
      "enter the lower value :- 1\n",
      "enter the higher valuue:- 10\n",
      "\n",
      " you have only  3 chance to guess the integer !\n",
      "\n",
      "guess the number :-  1\n",
      "you guessed too low number\n",
      "guess the number :-  2\n",
      "you guessed too low number\n",
      "guess the number :-  3\n",
      "you guessed too low number\n",
      "\n",
      "\n",
      " THE NUMBER IS 7\n",
      "\n",
      " **BETTER LUCK NEXT TIME !**\n"
     ]
    }
   ],
   "source": [
    "#import math and random module\n",
    "import math\n",
    "import random\n",
    "#input the lower input \n",
    "lower=int(input(\"enter the lower value :- \"))\n",
    "#input the upper input\n",
    "upper=int(input(\"enter the higher valuue:- \"))\n",
    "#guess the random number in between upper and the lower\n",
    "x=random.randint(lower,upper)\n",
    "print(\"\\n you have only \",round(math.log(upper-lower+1,2)),\"chance to guess the integer !\\n\")\n",
    "#initialiing the number of guesses\n",
    "count=0\n",
    "#the minimum number of chances to guess the number\n",
    "while count<math.log(upper-lower+1):\n",
    "    count+=1\n",
    "    #taking the guessing value as input for start the game\n",
    "    guess=int(input(\"guess the number :-  \"))\n",
    "    #cheak the guessing value is similar with the random number or not \n",
    "    if x==guess:\n",
    "        print(\"congratulation you did it in your\",count,\"try\")\n",
    "        #once the guess is correct then the loop breaks\n",
    "        break\n",
    "        #nither the loop runs again\n",
    "    elif x<guess:\n",
    "        print(\"you guessed too high number\")\n",
    "    elif x>guess:\n",
    "        print(\"you guessed too low number\")\n",
    "#if you have miss all the chance but did't guess\n",
    "if count>math.log(upper-lower+1):\n",
    "    print(\"\\n\\n THE NUMBER IS %d\"%x)\n",
    "    print(\"\\n **BETTER LUCK NEXT TIME !**\")\n",
    "    \n"
   ]
  },
  {
   "cell_type": "code",
   "execution_count": null,
   "id": "2ae8099f",
   "metadata": {},
   "outputs": [],
   "source": []
  }
 ],
 "metadata": {
  "kernelspec": {
   "display_name": "Python 3",
   "language": "python",
   "name": "python3"
  }
 },
 "nbformat": 4,
 "nbformat_minor": 5
}
